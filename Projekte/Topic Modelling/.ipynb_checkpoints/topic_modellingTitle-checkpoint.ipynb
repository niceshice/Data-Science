{
 "cells": [
  {
   "cell_type": "code",
   "execution_count": 1,
   "id": "d75044ff",
   "metadata": {},
   "outputs": [],
   "source": [
    "import spacy\n",
    "import os\n",
    "import pandas as pd\n",
    "import re"
   ]
  },
  {
   "cell_type": "code",
   "execution_count": 2,
   "id": "eb7300d9",
   "metadata": {},
   "outputs": [],
   "source": [
    "nlp = spacy.load(\"en_core_web_md\")"
   ]
  },
  {
   "cell_type": "markdown",
   "id": "30354cf7",
   "metadata": {},
   "source": [
    "Theres a lot to filter, see [this](http://localhost:8889/tree/Documents/Uni/DH/Data%20Science/Projekte/Topic%20Modelling/corpus_base/16338845__IM-PRESS__20050826-IPR-01421__EN.txt)."
   ]
  },
  {
   "cell_type": "code",
   "execution_count": null,
   "id": "bea859ba",
   "metadata": {},
   "outputs": [],
   "source": [
    "# Define the folder path\n",
    "folder_path = 'corpus_base'\n",
    "\n",
    "# Initialize lists to store data\n",
    "titles = []\n",
    "categories = []\n",
    "contents = []\n",
    "filenames = []\n",
    "\n",
    "date_pattern = r'\\d{4}-\\d{2}-\\d{2} - \\d{2}:\\d{2}'\n",
    "dates_pattern = r'\\d{2}\\.\\d{2}\\.\\d{2}'\n",
    "phone_pattern = r'\\(\\+\\d*\\)\\s\\d*\\s\\d*\\s\\d*'\n",
    "mark_pattern = r'[A-Z]{4,}'\n",
    "ref_pattern = r'\\d+\\w+\\d+'\n",
    "mail_pattern = r'.*\\@.*\\.eu'\n",
    "\n",
    "# Iterate over files in the folder\n",
    "for file_name in os.listdir(folder_path):\n",
    "    # Check if file has .txt extension\n",
    "    if file_name.endswith('.txt'):\n",
    "        file_path = os.path.join(folder_path, file_name)\n",
    "        \n",
    "        # Read the file\n",
    "        with open(file_path, 'r', encoding='utf-8') as file:\n",
    "            lines = file.readlines()\n",
    "            \n",
    "            # Extract title, category, and content\n",
    "            title = lines[0].strip()\n",
    "            category = lines[1].strip()\n",
    "            content_lines = lines[2:]  # Exclude the first two lines\n",
    "            \n",
    "            # Remove weird stuff\n",
    "            content_lines = [re.sub(r'\\/\\S*', '', line) for line in content_lines]\n",
    "            content_lines = [re.sub(date_pattern, '', line) for line in content_lines]\n",
    "            content_lines = [re.sub(r'\\*\\.jpg', '', line) for line in content_lines]\n",
    "            content_lines = [re.sub(phone_pattern, '', line) for line in content_lines]\n",
    "            content_lines = [re.sub(mark_pattern, '', line) for line in content_lines]\n",
    "            content_lines = [re.sub(ref_pattern, '', line) for line in content_lines]\n",
    "            content_lines = [re.sub(mail_pattern, '', line) for line in content_lines]\n",
    "            \n",
    "            # Remove batches of 3 lines\n",
    "            content_lines = [line for line in content_lines if not line.startswith((r'\\d', 'LINK', 'EN'))]\n",
    "            \n",
    "            # Join the remaining lines to form the content\n",
    "            content = ' '.join(content_lines).strip()            \n",
    "            \n",
    "            # Append data to lists\n",
    "            titles.append(title)\n",
    "            categories.append(category)\n",
    "            contents.append(content)\n",
    "            filenames.append(file_name)\n",
    "\n",
    "# Create a pandas dataframe\n",
    "data = {\n",
    "    'title': titles,\n",
    "    'category': categories,\n",
    "    'content': contents,\n",
    "    'filename': filenames\n",
    "}\n",
    "\n",
    "df = pd.DataFrame(data)\n",
    "df"
   ]
  },
  {
   "cell_type": "code",
   "execution_count": null,
   "id": "faae66df",
   "metadata": {},
   "outputs": [],
   "source": [
    "stopwords = list(nlp.Defaults.stop_words)+['%', '.', \"?\", \"!\", \",\", \"(\", \")\", \":\", \";\", \"\\\"\", \"'\", \"=\", \"-\", \"--en\", \"http\", \"v0\", \"xml\", \"im-\", \"doc\", \"avi\", 'XML', 'DOC', 'AVI', 'IM-', '.jpg']\n",
    "stoptags = ['ADP', 'ADV', 'AUX', 'CONJ', 'CCONJ', 'DET', 'INTJ', 'NUM', 'PART', 'PRON', 'PUNCT', 'SCONJ', 'SYM', 'SPACE']"
   ]
  },
  {
   "cell_type": "code",
   "execution_count": null,
   "id": "5b53f304",
   "metadata": {},
   "outputs": [],
   "source": [
    "stopwords"
   ]
  },
  {
   "cell_type": "code",
   "execution_count": null,
   "id": "7415026d",
   "metadata": {},
   "outputs": [],
   "source": [
    "df[\"tokens\"] = df.title.apply(lambda x: [t.lemma_.lower() for t in nlp(x, disable=[\"parser\", \"ner\"]) if (t.text.strip() != \"\" and (t.text.lower() not in stopwords) and t.pos_ not in stoptags)])"
   ]
  },
  {
   "cell_type": "code",
   "execution_count": null,
   "id": "30af609e",
   "metadata": {},
   "outputs": [],
   "source": [
    "df.iloc[356].tokens"
   ]
  },
  {
   "cell_type": "code",
   "execution_count": null,
   "id": "aa547684",
   "metadata": {},
   "outputs": [],
   "source": [
    "from gensim.corpora.dictionary import Dictionary\n",
    "dictionary = Dictionary(df['tokens'])\n",
    "dictionary.filter_extremes(no_below=3, no_above=0.5)\n",
    "\n",
    "l = list(dictionary.items())\n",
    "print(len(l))\n",
    "print(l)"
   ]
  },
  {
   "cell_type": "code",
   "execution_count": null,
   "id": "f8d7d5ce",
   "metadata": {},
   "outputs": [],
   "source": [
    "corpus = [dictionary.doc2bow(a) for a in df['tokens']]"
   ]
  },
  {
   "cell_type": "code",
   "execution_count": null,
   "id": "39c8c132",
   "metadata": {},
   "outputs": [],
   "source": [
    "from gensim.models import LdaMulticore"
   ]
  },
  {
   "cell_type": "code",
   "execution_count": null,
   "id": "aa0d3d84",
   "metadata": {},
   "outputs": [],
   "source": [
    "# We will execute topic modeling 50 times, each time with the different number of topics\n",
    "max_topics = 50 \n",
    "models = []\n",
    "\n",
    "for i in range(max_topics):\n",
    "    print(\"Training LDA with \" + str(i+1) + \" topics.\")\n",
    "    \n",
    "    lda_model = LdaMulticore(corpus=corpus, id2word=dictionary, iterations=100, num_topics=i+1, workers = 12)\n",
    "    models.append(lda_model)\n",
    "          \n",
    "print(\"Done.\")"
   ]
  },
  {
   "cell_type": "code",
   "execution_count": null,
   "id": "dd1b17c1",
   "metadata": {},
   "outputs": [],
   "source": [
    "from gensim.models import CoherenceModel\n",
    "\n",
    "coherence_measures = ['c_uci', 'u_mass', 'c_v', 'c_npmi']\n",
    "scores = pd.DataFrame(columns=coherence_measures)\n",
    "for measure in coherence_measures:\n",
    "    scores_temp = []\n",
    "    for i in range(len(models)):\n",
    "        print(\"Computing \" + str(measure) +\" for the LDA model with \" + str(i+1) + \" topics.\")\n",
    "        cm = CoherenceModel(model=models[i], corpus=corpus, texts = df[\"tokens\"], dictionary=dictionary, coherence=measure)\n",
    "        score = cm.get_coherence()\n",
    "        scores_temp.append(score)\n",
    "    scores[measure] = scores_temp\n",
    "    print(\"Done with \" + measure)\n",
    "print(\"Done.\")"
   ]
  },
  {
   "cell_type": "code",
   "execution_count": null,
   "id": "9e0cd8a1",
   "metadata": {},
   "outputs": [],
   "source": [
    "import matplotlib.pyplot as plt\n",
    "import numpy as np\n",
    "\n",
    "num_topics = [i+1 for i in range(max_topics)]"
   ]
  },
  {
   "cell_type": "code",
   "execution_count": null,
   "id": "12eb4398",
   "metadata": {},
   "outputs": [],
   "source": [
    "fig, axes = plt.subplots(nrows=2, ncols=2)\n",
    "best_v = scores['c_v'].nlargest(3)\n",
    "\n",
    "axes[0, 0].plot(num_topics, list(scores['c_v']), color='purple')\n",
    "axes[0, 0].axvline(x=scores['c_v'].idxmax()+1, color='r', linestyle='solid')\n",
    "axes[0, 0].set_title(f'best v idx: {best_v}')\n",
    "\n",
    "best_npmi = scores['c_npmi'].nlargest(3)\n",
    "\n",
    "axes[0, 1].plot(num_topics, list(scores['c_npmi']), color='green')\n",
    "axes[0, 1].axvline(x=scores['c_npmi'].idxmax()+1, color='r', linestyle='dotted')\n",
    "axes[0, 1].set_title(f'best npmi idx: {best_npmi}')\n",
    "\n",
    "best_mass = scores['u_mass'].nsmallest(3)\n",
    "\n",
    "axes[1, 0].plot(num_topics, list(scores['u_mass']), color='red')\n",
    "axes[1, 0].axvline(x=scores['u_mass'].idxmin()+1, color='r', linestyle='dashed')\n",
    "axes[1, 0].set_title(f'best mass idx: {best_mass}')\n",
    "\n",
    "best_uci = scores['c_uci'].nlargest(3)\n",
    "                                \n",
    "axes[1, 1].plot(num_topics, list(scores['c_uci']), color='blue')\n",
    "axes[1, 1].axvline(x=scores['c_uci'].idxmax()+1, color='r', linestyle='dashdot')\n",
    "axes[1, 1].set_title(f'best uci idx: {best_uci}')\n",
    "\n",
    "plt.tight_layout()\n",
    "plt.show()"
   ]
  },
  {
   "cell_type": "code",
   "execution_count": null,
   "id": "1334ae3a",
   "metadata": {},
   "outputs": [],
   "source": [
    "models[24].print_topics(num_words=6, num_topics=max_topics)"
   ]
  },
  {
   "cell_type": "code",
   "execution_count": null,
   "id": "05683805",
   "metadata": {},
   "outputs": [],
   "source": [
    "for doc_id, doc in enumerate(corpus):\n",
    "# Iterate over each document in the corpus\n",
    "    # Get the topic distribution for the document\n",
    "    topic_distribution = models[43].get_document_topics(doc)\n",
    "    \n",
    "    # Print the topic distribution for the current document\n",
    "    print(f\"Document ID: {doc_id}\")\n",
    "    for topic_id, topic_prob in topic_distribution:\n",
    "        print(f\"Topic ID: {topic_id}, Probability: {topic_prob}\")\n",
    "    print()\n"
   ]
  },
  {
   "cell_type": "code",
   "execution_count": null,
   "id": "1a414262",
   "metadata": {},
   "outputs": [],
   "source": [
    "df.iloc[3].title"
   ]
  },
  {
   "cell_type": "code",
   "execution_count": null,
   "id": "289a6a5b",
   "metadata": {},
   "outputs": [],
   "source": [
    "import pyLDAvis.gensim_models\n",
    "pyLDAvis.enable_notebook()# Visualise inside a notebook"
   ]
  },
  {
   "cell_type": "code",
   "execution_count": null,
   "id": "e10738f2",
   "metadata": {},
   "outputs": [],
   "source": [
    "lda_display = pyLDAvis.gensim_models.prepare(models[max_topics-1], corpus, dictionary)\n",
    "pyLDAvis.display(lda_display)"
   ]
  },
  {
   "cell_type": "code",
   "execution_count": null,
   "id": "d0d9da44",
   "metadata": {},
   "outputs": [],
   "source": []
  }
 ],
 "metadata": {
  "kernelspec": {
   "display_name": "Python 3 (ipykernel)",
   "language": "python",
   "name": "python3"
  },
  "language_info": {
   "codemirror_mode": {
    "name": "ipython",
    "version": 3
   },
   "file_extension": ".py",
   "mimetype": "text/x-python",
   "name": "python",
   "nbconvert_exporter": "python",
   "pygments_lexer": "ipython3",
   "version": "3.10.10"
  }
 },
 "nbformat": 4,
 "nbformat_minor": 5
}
